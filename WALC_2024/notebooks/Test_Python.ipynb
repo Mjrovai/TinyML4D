{
  "cells": [
    {
      "cell_type": "markdown",
      "metadata": {
        "id": "NCIjkytX6euH"
      },
      "source": [
        "# Notebook - Python"
      ]
    },
    {
      "cell_type": "code",
      "execution_count": 1,
      "metadata": {
        "ExecuteTime": {
          "start_time": "2021-05-05T16:35:42.344Z"
        },
        "id": "WoiU90ha5N48"
      },
      "outputs": [],
      "source": [
        "# Notebook - Python"
      ]
    },
    {
      "cell_type": "markdown",
      "metadata": {
        "id": "ScZmDiLk70UF"
      },
      "source": [
        "This is a notebook for testing Python Code"
      ]
    },
    {
      "cell_type": "markdown",
      "metadata": {
        "id": "IOO7ZHav6laX"
      },
      "source": [
        "## Basic operation and main data types"
      ]
    },
    {
      "cell_type": "code",
      "execution_count": 3,
      "metadata": {
        "ExecuteTime": {
          "end_time": "2021-05-05T23:20:03.999951Z",
          "start_time": "2021-05-05T23:20:03.997498Z"
        },
        "id": "Hz9nacVI7w4W"
      },
      "outputs": [],
      "source": [
        "x = 1"
      ]
    },
    {
      "cell_type": "code",
      "execution_count": null,
      "metadata": {
        "ExecuteTime": {
          "end_time": "2021-05-05T23:20:04.681468Z",
          "start_time": "2021-05-05T23:20:04.677368Z"
        },
        "id": "s9T1YbXV8c1z"
      },
      "outputs": [],
      "source": [
        "x"
      ]
    },
    {
      "cell_type": "code",
      "execution_count": null,
      "metadata": {
        "ExecuteTime": {
          "end_time": "2021-05-05T23:20:05.480939Z",
          "start_time": "2021-05-05T23:20:05.477570Z"
        },
        "id": "jD7Tj-EE8eRL"
      },
      "outputs": [],
      "source": [
        "y = 2"
      ]
    },
    {
      "cell_type": "code",
      "execution_count": null,
      "metadata": {
        "ExecuteTime": {
          "end_time": "2021-05-05T23:20:06.153584Z",
          "start_time": "2021-05-05T23:20:06.150059Z"
        },
        "id": "aW30FcGm8gli"
      },
      "outputs": [],
      "source": [
        "y"
      ]
    },
    {
      "cell_type": "code",
      "execution_count": null,
      "metadata": {
        "ExecuteTime": {
          "end_time": "2021-05-05T23:20:07.000368Z",
          "start_time": "2021-05-05T23:20:06.997262Z"
        },
        "id": "lsyryCV28lPo"
      },
      "outputs": [],
      "source": [
        "print (x+y)"
      ]
    },
    {
      "cell_type": "code",
      "execution_count": null,
      "metadata": {
        "ExecuteTime": {
          "end_time": "2021-05-05T23:20:07.902989Z",
          "start_time": "2021-05-05T23:20:07.900480Z"
        },
        "id": "Xy5vScjN9OlM"
      },
      "outputs": [],
      "source": [
        "text = \"python is a good language\""
      ]
    },
    {
      "cell_type": "code",
      "execution_count": null,
      "metadata": {
        "ExecuteTime": {
          "end_time": "2021-05-05T23:20:10.813015Z",
          "start_time": "2021-05-05T23:20:10.808829Z"
        },
        "id": "0caTdpi7-Imy"
      },
      "outputs": [],
      "source": [
        "text"
      ]
    },
    {
      "cell_type": "code",
      "execution_count": null,
      "metadata": {
        "ExecuteTime": {
          "end_time": "2021-05-05T23:20:11.644615Z",
          "start_time": "2021-05-05T23:20:11.641466Z"
        },
        "colab": {
          "base_uri": "https://localhost:8080/"
        },
        "id": "6BapZT6k-Uz0",
        "outputId": "4387c5d7-d33d-4c28-90f3-cb586a4287cf"
      },
      "outputs": [
        {
          "name": "stdout",
          "output_type": "stream",
          "text": [
            "python is a good language\n"
          ]
        }
      ],
      "source": [
        "print(text)"
      ]
    },
    {
      "cell_type": "code",
      "execution_count": null,
      "metadata": {
        "ExecuteTime": {
          "end_time": "2021-05-05T23:20:15.149209Z",
          "start_time": "2021-05-05T23:20:15.145444Z"
        },
        "id": "vdtjeosH-Ug2"
      },
      "outputs": [],
      "source": [
        "print(str(x)+text+str(y))"
      ]
    },
    {
      "cell_type": "code",
      "execution_count": null,
      "metadata": {
        "ExecuteTime": {
          "end_time": "2021-05-05T23:20:25.829332Z",
          "start_time": "2021-05-05T23:20:25.825883Z"
        },
        "id": "n60O22bf-UWT"
      },
      "outputs": [],
      "source": [
        "print(\"A variável x tem um valor de {} e a y de {}\".format(x, y))"
      ]
    },
    {
      "cell_type": "code",
      "execution_count": null,
      "metadata": {
        "ExecuteTime": {
          "end_time": "2021-05-05T23:20:26.803213Z",
          "start_time": "2021-05-05T23:20:26.800652Z"
        },
        "id": "yp9zECVn_qy9"
      },
      "outputs": [],
      "source": [
        "pi = 3.1416"
      ]
    },
    {
      "cell_type": "code",
      "execution_count": null,
      "metadata": {
        "ExecuteTime": {
          "end_time": "2021-05-05T23:20:27.897484Z",
          "start_time": "2021-05-05T23:20:27.894549Z"
        },
        "id": "dGuA-O3ah8gu"
      },
      "outputs": [],
      "source": [
        "print(\"Pi tem um valor aproximado de {:.2f}\".format(pi))"
      ]
    },
    {
      "cell_type": "markdown",
      "metadata": {
        "id": "58YmG_jYh8gu"
      },
      "source": [
        "https://mkaz.blog/code/python-string-format-cookbook/"
      ]
    },
    {
      "cell_type": "code",
      "execution_count": null,
      "metadata": {
        "ExecuteTime": {
          "end_time": "2021-05-05T23:20:33.505430Z",
          "start_time": "2021-05-05T23:20:33.502719Z"
        },
        "id": "q0x-bl1Q-UL6"
      },
      "outputs": [],
      "source": [
        "lista = [1, 2, 3, 4, 5]"
      ]
    },
    {
      "cell_type": "code",
      "execution_count": null,
      "metadata": {
        "ExecuteTime": {
          "end_time": "2021-05-05T23:20:34.365676Z",
          "start_time": "2021-05-05T23:20:34.361949Z"
        },
        "id": "RyuO4uyT_bUS"
      },
      "outputs": [],
      "source": [
        "lista"
      ]
    },
    {
      "cell_type": "code",
      "execution_count": null,
      "metadata": {
        "ExecuteTime": {
          "end_time": "2021-05-05T23:20:35.265931Z",
          "start_time": "2021-05-05T23:20:35.261748Z"
        },
        "id": "gGRs64hp_bR-"
      },
      "outputs": [],
      "source": [
        "print(type(lista))\n",
        "print(type(text))\n",
        "print(type(x))\n",
        "print(type(pi))"
      ]
    },
    {
      "cell_type": "code",
      "execution_count": null,
      "metadata": {
        "ExecuteTime": {
          "end_time": "2021-05-05T23:20:41.307167Z",
          "start_time": "2021-05-05T23:20:41.303629Z"
        },
        "id": "TJy_qMZV_bPL"
      },
      "outputs": [],
      "source": [
        "int(pi)"
      ]
    },
    {
      "cell_type": "code",
      "execution_count": null,
      "metadata": {
        "ExecuteTime": {
          "end_time": "2021-05-05T23:20:42.285490Z",
          "start_time": "2021-05-05T23:20:42.281740Z"
        },
        "id": "cDtU7rJv_bMr"
      },
      "outputs": [],
      "source": [
        "pi"
      ]
    },
    {
      "cell_type": "code",
      "execution_count": null,
      "metadata": {
        "ExecuteTime": {
          "end_time": "2021-05-05T23:20:43.247433Z",
          "start_time": "2021-05-05T23:20:43.243231Z"
        },
        "id": "2FglzAq__bJr"
      },
      "outputs": [],
      "source": [
        "# converting to integer, change the variable value\n",
        "pi = int(pi)\n",
        "pi"
      ]
    },
    {
      "cell_type": "code",
      "execution_count": null,
      "metadata": {
        "ExecuteTime": {
          "end_time": "2021-05-05T23:20:44.011046Z",
          "start_time": "2021-05-05T23:20:44.007184Z"
        },
        "id": "2Xqmxs5d_bHI"
      },
      "outputs": [],
      "source": [
        "# converting back to float does notreturn with original value\n",
        "float(pi)"
      ]
    },
    {
      "cell_type": "code",
      "execution_count": null,
      "metadata": {
        "ExecuteTime": {
          "end_time": "2021-05-05T23:22:39.805763Z",
          "start_time": "2021-05-05T23:22:39.802617Z"
        },
        "id": "Plw0AHbDAfKn"
      },
      "outputs": [],
      "source": [
        "print(min(lista))\n",
        "print(max(lista))"
      ]
    },
    {
      "cell_type": "code",
      "execution_count": null,
      "metadata": {
        "ExecuteTime": {
          "end_time": "2021-05-05T23:22:40.931141Z",
          "start_time": "2021-05-05T23:22:40.927389Z"
        },
        "id": "Jvo3UfmAAfcq"
      },
      "outputs": [],
      "source": [
        "len(lista)"
      ]
    },
    {
      "cell_type": "code",
      "execution_count": null,
      "metadata": {
        "ExecuteTime": {
          "end_time": "2021-05-05T23:22:46.040249Z",
          "start_time": "2021-05-05T23:22:46.035909Z"
        },
        "id": "E3ZCrEmfCEcc"
      },
      "outputs": [],
      "source": [
        "lst = list(('a', 'b', 'c', 1, 2, 3))\n",
        "lst"
      ]
    },
    {
      "cell_type": "code",
      "execution_count": null,
      "metadata": {
        "ExecuteTime": {
          "end_time": "2021-05-05T23:22:47.669181Z",
          "start_time": "2021-05-05T23:22:47.664962Z"
        },
        "id": "aa9k24iyCETU"
      },
      "outputs": [],
      "source": [
        "lst.append(3)\n",
        "lst"
      ]
    },
    {
      "cell_type": "code",
      "execution_count": null,
      "metadata": {
        "ExecuteTime": {
          "end_time": "2021-05-05T23:22:53.535585Z",
          "start_time": "2021-05-05T23:22:53.531493Z"
        },
        "id": "cgfcMOrNC4yA"
      },
      "outputs": [],
      "source": [
        "# set takes only unique values (ordering values)\n",
        "set(lst)"
      ]
    },
    {
      "cell_type": "code",
      "execution_count": null,
      "metadata": {
        "ExecuteTime": {
          "end_time": "2021-05-05T23:23:53.171158Z",
          "start_time": "2021-05-05T23:23:53.167247Z"
        },
        "id": "qEFh7T7uC40j"
      },
      "outputs": [],
      "source": [
        "# original lst does not changed (to change it, do: lst = set(lst))\n",
        "lst"
      ]
    },
    {
      "cell_type": "code",
      "execution_count": null,
      "metadata": {
        "ExecuteTime": {
          "end_time": "2021-05-05T23:25:20.872975Z",
          "start_time": "2021-05-05T23:25:20.869078Z"
        },
        "id": "xHiMmo0vC5BE"
      },
      "outputs": [],
      "source": [
        "lista.append(0)\n",
        "lista.sort()\n",
        "lista"
      ]
    },
    {
      "cell_type": "code",
      "execution_count": null,
      "metadata": {
        "ExecuteTime": {
          "end_time": "2021-05-05T23:25:28.297625Z",
          "start_time": "2021-05-05T23:25:28.293709Z"
        },
        "id": "31qXDMZWC5Dv"
      },
      "outputs": [],
      "source": [
        "lista.pop(0)\n",
        "lista"
      ]
    },
    {
      "cell_type": "code",
      "execution_count": null,
      "metadata": {
        "ExecuteTime": {
          "end_time": "2021-05-05T23:25:37.139335Z",
          "start_time": "2021-05-05T23:25:37.135582Z"
        },
        "id": "t401Y7b2GNCQ"
      },
      "outputs": [],
      "source": [
        "lst"
      ]
    },
    {
      "cell_type": "code",
      "execution_count": null,
      "metadata": {
        "ExecuteTime": {
          "end_time": "2021-05-05T23:25:42.218226Z",
          "start_time": "2021-05-05T23:25:42.214237Z"
        },
        "id": "dI93T1QBGNE4"
      },
      "outputs": [],
      "source": [
        "lst.index(3)"
      ]
    },
    {
      "cell_type": "code",
      "execution_count": null,
      "metadata": {
        "ExecuteTime": {
          "end_time": "2021-05-05T23:25:43.174561Z",
          "start_time": "2021-05-05T23:25:43.171966Z"
        },
        "id": "butpqOnJGp2G"
      },
      "outputs": [],
      "source": [
        "lst.insert(3,'d')"
      ]
    },
    {
      "cell_type": "code",
      "execution_count": null,
      "metadata": {
        "ExecuteTime": {
          "end_time": "2021-05-05T23:25:43.936702Z",
          "start_time": "2021-05-05T23:25:43.932959Z"
        },
        "id": "_Nwo2XUAGp_k"
      },
      "outputs": [],
      "source": [
        "lst"
      ]
    },
    {
      "cell_type": "markdown",
      "metadata": {
        "id": "zJsk3sqMGqCG"
      },
      "source": [
        "---\n",
        "## Functions & Libraries"
      ]
    },
    {
      "cell_type": "code",
      "execution_count": null,
      "metadata": {
        "ExecuteTime": {
          "end_time": "2021-05-05T23:25:47.321501Z",
          "start_time": "2021-05-05T23:25:47.318742Z"
        },
        "id": "Evuug3SZKZVr"
      },
      "outputs": [],
      "source": [
        "def calc(val_1, val_2):\n",
        "    '''\n",
        "    return squared minimun value between inputs\n",
        "    '''\n",
        "    return (min(val_1, val_2))**2"
      ]
    },
    {
      "cell_type": "code",
      "execution_count": null,
      "metadata": {
        "ExecuteTime": {
          "end_time": "2021-05-05T23:25:47.992879Z",
          "start_time": "2021-05-05T23:25:47.988664Z"
        },
        "id": "ol5tRo6RLdmi"
      },
      "outputs": [],
      "source": [
        "calc(33, 10)"
      ]
    },
    {
      "cell_type": "code",
      "execution_count": null,
      "metadata": {
        "ExecuteTime": {
          "end_time": "2021-05-05T23:25:49.102324Z",
          "start_time": "2021-05-05T23:25:49.096342Z"
        },
        "id": "Np9GStDlLdwp"
      },
      "outputs": [],
      "source": [
        "def circle_area(rd):\n",
        "    '''\n",
        "    return area of a circle with a radius equal to rd\n",
        "    '''\n",
        "    pi = 3.1416\n",
        "    area = pi*rd**2\n",
        "    print(\"A area do círculo de raio {} é {:.2f}\".format(rd, area))\n",
        "    return rd, area"
      ]
    },
    {
      "cell_type": "code",
      "execution_count": null,
      "metadata": {
        "ExecuteTime": {
          "end_time": "2021-05-05T23:25:51.721872Z",
          "start_time": "2021-05-05T23:25:51.718881Z"
        },
        "id": "tQAJ5DuoLdzI"
      },
      "outputs": [],
      "source": [
        "rd, area = circle_area(5)"
      ]
    },
    {
      "cell_type": "code",
      "execution_count": null,
      "metadata": {
        "ExecuteTime": {
          "end_time": "2021-05-05T23:25:52.591893Z",
          "start_time": "2021-05-05T23:25:52.588360Z"
        },
        "id": "Epq82_LtNCgj"
      },
      "outputs": [],
      "source": [
        "area"
      ]
    },
    {
      "cell_type": "code",
      "execution_count": null,
      "metadata": {
        "ExecuteTime": {
          "end_time": "2021-05-05T23:25:54.916229Z",
          "start_time": "2021-05-05T23:25:54.911978Z"
        },
        "id": "lh3puoxah8g0"
      },
      "outputs": [],
      "source": [
        "area = round(area, 2)\n",
        "area"
      ]
    },
    {
      "cell_type": "code",
      "execution_count": null,
      "metadata": {
        "ExecuteTime": {
          "end_time": "2021-05-05T23:25:57.920162Z",
          "start_time": "2021-05-05T23:25:57.916490Z"
        },
        "id": "ShAuFcAWNCi-"
      },
      "outputs": [],
      "source": [
        "# ups! Remember that we changed the value\n",
        "pi"
      ]
    },
    {
      "cell_type": "code",
      "execution_count": null,
      "metadata": {
        "ExecuteTime": {
          "end_time": "2021-05-05T23:26:31.917301Z",
          "start_time": "2021-05-05T23:26:31.914823Z"
        },
        "id": "d3BNS6A-NTEU"
      },
      "outputs": [],
      "source": [
        "import math"
      ]
    },
    {
      "cell_type": "code",
      "execution_count": null,
      "metadata": {
        "ExecuteTime": {
          "end_time": "2021-05-05T23:26:32.675586Z",
          "start_time": "2021-05-05T23:26:32.671790Z"
        },
        "id": "iXhgR2qYNTNm"
      },
      "outputs": [],
      "source": [
        "math.pi"
      ]
    },
    {
      "cell_type": "code",
      "execution_count": null,
      "metadata": {
        "ExecuteTime": {
          "end_time": "2021-05-05T23:26:36.037291Z",
          "start_time": "2021-05-05T23:26:36.033372Z"
        },
        "id": "9iuEqRZqNpAp"
      },
      "outputs": [],
      "source": [
        "math.pow(3, 3)"
      ]
    },
    {
      "cell_type": "code",
      "execution_count": null,
      "metadata": {
        "ExecuteTime": {
          "end_time": "2021-05-05T23:27:01.019063Z",
          "start_time": "2021-05-05T23:26:58.580119Z"
        },
        "id": "5I40qkNjNpDm"
      },
      "outputs": [],
      "source": [
        "import matplotlib.pyplot as plt"
      ]
    },
    {
      "cell_type": "code",
      "execution_count": null,
      "metadata": {
        "ExecuteTime": {
          "end_time": "2021-05-05T23:27:03.751865Z",
          "start_time": "2021-05-05T23:27:03.571411Z"
        },
        "id": "4Pjl1wevh8g0"
      },
      "outputs": [],
      "source": [
        "x = [1, 2, 3.4, 6, 8]\n",
        "y = [2, 4, 9, 10, 7]\n",
        "plt.plot(x, y, color ='green', marker='o')"
      ]
    },
    {
      "cell_type": "code",
      "execution_count": null,
      "metadata": {
        "ExecuteTime": {
          "end_time": "2021-05-05T16:06:55.099016Z",
          "start_time": "2021-05-05T16:06:54.979766Z"
        },
        "id": "uUT_mSHBUurw"
      },
      "outputs": [],
      "source": [
        "plt.plot(x, y, 'go')\n",
        "plt.title(\"My Graph\")\n",
        "plt.axis([0,10, 0, 12]); # using ';' to prevent the info line"
      ]
    },
    {
      "cell_type": "code",
      "execution_count": null,
      "metadata": {
        "ExecuteTime": {
          "end_time": "2021-05-05T23:27:55.623984Z",
          "start_time": "2021-05-05T23:27:55.491634Z"
        },
        "id": "Hnam_oI2VEpV"
      },
      "outputs": [],
      "source": [
        "plt.plot(x);"
      ]
    },
    {
      "cell_type": "code",
      "execution_count": null,
      "metadata": {
        "ExecuteTime": {
          "end_time": "2021-05-05T23:28:02.129779Z",
          "start_time": "2021-05-05T23:28:02.127171Z"
        },
        "id": "oa79uiIOUuuY"
      },
      "outputs": [],
      "source": [
        "import numpy as np"
      ]
    },
    {
      "cell_type": "code",
      "execution_count": null,
      "metadata": {
        "ExecuteTime": {
          "end_time": "2021-05-05T23:28:03.954539Z",
          "start_time": "2021-05-05T23:28:03.951896Z"
        },
        "id": "Z3ygeDo9h8g0"
      },
      "outputs": [],
      "source": [
        "x = np.arange(0, 4*np.pi, 0.1)"
      ]
    },
    {
      "cell_type": "code",
      "execution_count": null,
      "metadata": {
        "ExecuteTime": {
          "end_time": "2021-05-05T23:28:04.826605Z",
          "start_time": "2021-05-05T23:28:04.821420Z"
        },
        "id": "MRpzFPkkYD7n"
      },
      "outputs": [],
      "source": [
        "x"
      ]
    },
    {
      "cell_type": "code",
      "execution_count": null,
      "metadata": {
        "ExecuteTime": {
          "end_time": "2021-05-05T23:28:20.144240Z",
          "start_time": "2021-05-05T23:28:20.140027Z"
        },
        "id": "2NcFobU8h8g0",
        "outputId": "5c556056-de94-491f-a0c3-9aecd236a609"
      },
      "outputs": [
        {
          "data": {
            "text/plain": [
              "numpy.ndarray"
            ]
          },
          "execution_count": 55,
          "metadata": {},
          "output_type": "execute_result"
        }
      ],
      "source": [
        "type(x)"
      ]
    },
    {
      "cell_type": "code",
      "execution_count": null,
      "metadata": {
        "ExecuteTime": {
          "end_time": "2021-05-05T23:28:29.716869Z",
          "start_time": "2021-05-05T23:28:29.714227Z"
        },
        "id": "91b6PsdyYD-T"
      },
      "outputs": [],
      "source": [
        "y = np.sin(x)"
      ]
    },
    {
      "cell_type": "code",
      "execution_count": null,
      "metadata": {
        "ExecuteTime": {
          "end_time": "2021-05-05T23:28:31.655976Z",
          "start_time": "2021-05-05T23:28:31.517448Z"
        },
        "id": "d_mgILcNYEAP"
      },
      "outputs": [],
      "source": [
        "plt.plot(x,y);\n",
        "plt.title(\"Sinus Wave\")\n",
        "plt.grid();"
      ]
    },
    {
      "cell_type": "code",
      "execution_count": null,
      "metadata": {
        "ExecuteTime": {
          "end_time": "2021-05-05T23:28:39.684631Z",
          "start_time": "2021-05-05T23:28:39.412138Z"
        },
        "id": "o53T1OAoWaJ5"
      },
      "outputs": [],
      "source": [
        "plt.figure(figsize=(10,5))\n",
        "x = np.arange(0, 2*2*np.pi, 0.1)\n",
        "y = 1*np.sin(x)\n",
        "plt.plot(x,y)\n",
        "plt.title(\"Sine Wave\")\n",
        "plt.grid()\n",
        "plt.show()\n",
        "\n",
        "plt.figure(figsize=(10,5))\n",
        "z = np.arange(0, 4*2*np.pi, 0.1)\n",
        "t = np.cos(z)\n",
        "plt.plot(z, t)\n",
        "plt.title(\"Cosine Wave\")\n",
        "plt.grid()"
      ]
    },
    {
      "cell_type": "code",
      "execution_count": null,
      "metadata": {
        "ExecuteTime": {
          "end_time": "2021-05-05T23:29:31.152077Z",
          "start_time": "2021-05-05T23:29:30.966543Z"
        },
        "id": "QZcy1zzbgyn-"
      },
      "outputs": [],
      "source": [
        "plt.figure(figsize=(10,5))\n",
        "x = np.arange(0, 2*2*np.pi, 0.1)\n",
        "y = 1*np.sin(x)\n",
        "#plt.plot(x,y)\n",
        "z = np.arange(0, 4*2*np.pi, 0.1)\n",
        "t = np.cos(x)\n",
        "plt.plot(x, y, x, t)\n",
        "plt.title(\"Sine/Cosine Wave\")\n",
        "plt.grid()"
      ]
    },
    {
      "cell_type": "code",
      "execution_count": null,
      "metadata": {
        "ExecuteTime": {
          "end_time": "2021-05-05T23:29:36.063006Z",
          "start_time": "2021-05-05T23:29:36.058075Z"
        },
        "id": "vxtyGqbGY9Vr"
      },
      "outputs": [],
      "source": [
        "def plot_senoidal(nper=1, amp=1, ph=0):\n",
        "    plt.figure(figsize=(10,5))\n",
        "    x = np.arange(0, nper*2*np.pi, 0.1)\n",
        "    y = amp*np.sin(x+ph*np.pi)\n",
        "    plt.plot(x,y)\n",
        "    plt.title(\"Ondas senoidais\")\n",
        "    plt.grid()\n",
        "    plt.show();"
      ]
    },
    {
      "cell_type": "code",
      "execution_count": null,
      "metadata": {
        "ExecuteTime": {
          "end_time": "2021-05-05T23:29:41.214124Z",
          "start_time": "2021-05-05T23:29:41.073827Z"
        },
        "id": "xxvP3ITOaMCd"
      },
      "outputs": [],
      "source": [
        "plot_senoidal(nper=2, amp=2, ph=-1/2)"
      ]
    },
    {
      "cell_type": "markdown",
      "metadata": {
        "id": "5F0tXC-mjtlm"
      },
      "source": [
        "# Pandas"
      ]
    },
    {
      "cell_type": "code",
      "execution_count": null,
      "metadata": {
        "ExecuteTime": {
          "end_time": "2021-05-05T23:30:17.274873Z",
          "start_time": "2021-05-05T23:30:13.230739Z"
        },
        "id": "DIr8EgqVjy37"
      },
      "outputs": [],
      "source": [
        "import pandas as pd"
      ]
    },
    {
      "cell_type": "markdown",
      "metadata": {
        "id": "QBIKjfLn7MMr"
      },
      "source": [
        "## Creating a Dataframe"
      ]
    },
    {
      "cell_type": "code",
      "execution_count": null,
      "metadata": {
        "ExecuteTime": {
          "end_time": "2021-05-05T23:30:19.254917Z",
          "start_time": "2021-05-05T23:30:19.247149Z"
        },
        "id": "QaW9PfDT7Ywc"
      },
      "outputs": [],
      "source": [
        "df = pd.DataFrame({'label': ['A', 'B', 'C', 'A', 'B', 'C'],\n",
        "                   'value_1': [1, 22, 3, 455, 50, 6],\n",
        "                   'value_2': [1.5, 2.8, 3.9, 4.85, 50.67, 6.78],\n",
        "                   })\n",
        "df.shape"
      ]
    },
    {
      "cell_type": "code",
      "execution_count": null,
      "metadata": {
        "ExecuteTime": {
          "end_time": "2021-05-05T23:30:20.088034Z",
          "start_time": "2021-05-05T23:30:20.060929Z"
        },
        "id": "vNUvEz7t7Y5B"
      },
      "outputs": [],
      "source": [
        "df"
      ]
    },
    {
      "cell_type": "code",
      "execution_count": null,
      "metadata": {
        "ExecuteTime": {
          "end_time": "2021-05-05T23:30:21.214701Z",
          "start_time": "2021-05-05T23:30:21.208102Z"
        },
        "id": "FqPG4_Zz7_qL"
      },
      "outputs": [],
      "source": [
        "df.info()"
      ]
    },
    {
      "cell_type": "code",
      "execution_count": null,
      "metadata": {
        "ExecuteTime": {
          "end_time": "2021-05-05T23:30:26.174556Z",
          "start_time": "2021-05-05T23:30:26.164041Z"
        },
        "id": "Q3jrPC8f8gGY"
      },
      "outputs": [],
      "source": [
        "df['value_3'] = [True, True, False, False, True, True]\n",
        "df"
      ]
    },
    {
      "cell_type": "code",
      "execution_count": null,
      "metadata": {
        "ExecuteTime": {
          "end_time": "2021-05-05T23:30:29.681145Z",
          "start_time": "2021-05-05T23:30:29.673868Z"
        },
        "id": "M4T48LZx9GHB"
      },
      "outputs": [],
      "source": [
        "df.info()"
      ]
    },
    {
      "cell_type": "code",
      "execution_count": null,
      "metadata": {
        "ExecuteTime": {
          "end_time": "2021-05-05T23:30:30.650584Z",
          "start_time": "2021-05-05T23:30:30.642320Z"
        },
        "id": "vTX2T3Hj9j0S"
      },
      "outputs": [],
      "source": [
        "df.head(2)"
      ]
    },
    {
      "cell_type": "code",
      "execution_count": null,
      "metadata": {
        "ExecuteTime": {
          "end_time": "2021-05-05T23:30:33.384453Z",
          "start_time": "2021-05-05T23:30:33.375475Z"
        },
        "id": "tnYJee0n92Tr"
      },
      "outputs": [],
      "source": [
        "df.tail(2)"
      ]
    },
    {
      "cell_type": "code",
      "execution_count": null,
      "metadata": {
        "ExecuteTime": {
          "end_time": "2021-05-05T23:30:42.133190Z",
          "start_time": "2021-05-05T23:30:42.117467Z"
        },
        "id": "g9b_U-PB99LW"
      },
      "outputs": [],
      "source": [
        "# Generate descriptive statistics - numeric values\n",
        "df.describe()"
      ]
    },
    {
      "cell_type": "markdown",
      "metadata": {
        "id": "xjstA9glh8g1"
      },
      "source": [
        "Inspecting non numeric values"
      ]
    },
    {
      "cell_type": "code",
      "execution_count": null,
      "metadata": {
        "ExecuteTime": {
          "end_time": "2021-05-05T23:30:46.866823Z",
          "start_time": "2021-05-05T23:30:46.861463Z"
        },
        "id": "xF5CbB3h9kGr"
      },
      "outputs": [],
      "source": [
        "df.label.value_counts()"
      ]
    },
    {
      "cell_type": "code",
      "execution_count": null,
      "metadata": {
        "ExecuteTime": {
          "end_time": "2021-05-05T23:30:47.663162Z",
          "start_time": "2021-05-05T23:30:47.656549Z"
        },
        "id": "v5Upx1BK-hDC"
      },
      "outputs": [],
      "source": [
        "df.value_3.value_counts()"
      ]
    },
    {
      "cell_type": "markdown",
      "metadata": {
        "id": "LQJWK8Wu-yuZ"
      },
      "source": [
        "## Downloading a dataset from a URL"
      ]
    },
    {
      "cell_type": "code",
      "execution_count": null,
      "metadata": {
        "ExecuteTime": {
          "end_time": "2021-05-05T23:30:53.384467Z",
          "start_time": "2021-05-05T23:30:52.763365Z"
        },
        "id": "Dsngz5Tjllg_"
      },
      "outputs": [],
      "source": [
        "url=\"https://raw.githubusercontent.com/cs109/2014_data/master/countries.csv\"\n",
        "df=pd.read_csv(url)\n",
        "df.shape"
      ]
    },
    {
      "cell_type": "code",
      "execution_count": null,
      "metadata": {
        "ExecuteTime": {
          "end_time": "2021-05-05T23:30:54.258506Z",
          "start_time": "2021-05-05T23:30:54.251070Z"
        },
        "id": "jCocvcNfllj9"
      },
      "outputs": [],
      "source": [
        "df.head()"
      ]
    },
    {
      "cell_type": "code",
      "execution_count": null,
      "metadata": {
        "ExecuteTime": {
          "end_time": "2021-05-05T23:30:57.165360Z",
          "start_time": "2021-05-05T23:30:57.159221Z"
        },
        "id": "Gf4aBwTrlln4"
      },
      "outputs": [],
      "source": [
        "df.Region.value_counts()"
      ]
    },
    {
      "cell_type": "code",
      "execution_count": null,
      "metadata": {
        "ExecuteTime": {
          "end_time": "2021-05-05T23:30:58.953498Z",
          "start_time": "2021-05-05T23:30:58.948607Z"
        },
        "id": "UT6ok3LgllpZ"
      },
      "outputs": [],
      "source": [
        "sa_countries = df[df.Region == 'SOUTH AMERICA'].Country.values\n",
        "sa_countries"
      ]
    },
    {
      "cell_type": "code",
      "execution_count": null,
      "metadata": {
        "ExecuteTime": {
          "end_time": "2021-05-05T23:30:59.917458Z",
          "start_time": "2021-05-05T23:30:59.911316Z"
        },
        "id": "2k84EQKn_rtB"
      },
      "outputs": [],
      "source": [
        "ww_regions = df.Region.value_counts()\n",
        "ww_regions"
      ]
    },
    {
      "cell_type": "code",
      "execution_count": null,
      "metadata": {
        "ExecuteTime": {
          "end_time": "2021-05-05T23:31:04.493747Z",
          "start_time": "2021-05-05T23:31:04.490042Z"
        },
        "colab": {
          "base_uri": "https://localhost:8080/"
        },
        "id": "-35A_GkJ_7du",
        "outputId": "044d4ce1-d82b-4820-8f94-aa2af022819b"
      },
      "outputs": [
        {
          "data": {
            "text/plain": [
              "pandas.core.series.Series"
            ]
          },
          "execution_count": 83,
          "metadata": {},
          "output_type": "execute_result"
        }
      ],
      "source": [
        "type(ww_regions)"
      ]
    },
    {
      "cell_type": "markdown",
      "metadata": {
        "id": "7dd2n7b2AUKU"
      },
      "source": [
        "## Uploading dataset from local computer"
      ]
    },
    {
      "cell_type": "markdown",
      "metadata": {
        "id": "jPG9Ojghh8g2"
      },
      "source": [
        "### Direct in the Computer"
      ]
    },
    {
      "cell_type": "code",
      "execution_count": null,
      "metadata": {
        "ExecuteTime": {
          "end_time": "2021-05-05T16:22:29.164713Z",
          "start_time": "2021-05-05T16:22:29.042839Z"
        },
        "id": "wSVhGprsh8g2",
        "outputId": "8bb6d09e-0cf4-47c0-af66-3d2d00ebf9a3"
      },
      "outputs": [
        {
          "name": "stdout",
          "output_type": "stream",
          "text": [
            "1_python_Intro.ipynb                    5_loops-and-list-comprehensions.ipynb\r\n",
            "2_functions-and-getting-help.ipynb      6_strings-and-dictionaries.ipynb\r\n",
            "3_booleans-and-conditionals.ipynb       7_working-with-external-libraries.ipynb\r\n",
            "4_lists.ipynb                           Test_Python.ipynb\r\n"
          ]
        }
      ],
      "source": [
        "# here are my files, you should be different\n",
        "!ls"
      ]
    },
    {
      "cell_type": "code",
      "execution_count": null,
      "metadata": {
        "ExecuteTime": {
          "end_time": "2021-05-05T16:21:55.710265Z",
          "start_time": "2021-05-05T16:21:55.582449Z"
        },
        "id": "gG-gf6R4h8g2",
        "outputId": "c76ca0d8-bd73-4ced-9fba-ed25c777627a"
      },
      "outputs": [
        {
          "name": "stdout",
          "output_type": "stream",
          "text": [
            "\u001b[34mdata\u001b[m\u001b[m      \u001b[34mdocs\u001b[m\u001b[m      \u001b[34mnotebooks\u001b[m\u001b[m\r\n"
          ]
        }
      ],
      "source": [
        "# going \"one layer up\"\n",
        "!ls ../"
      ]
    },
    {
      "cell_type": "code",
      "execution_count": null,
      "metadata": {
        "ExecuteTime": {
          "end_time": "2021-05-05T16:22:10.052447Z",
          "start_time": "2021-05-05T16:22:09.920143Z"
        },
        "id": "QZ9I-oLqh8g2",
        "outputId": "55f68f13-fb2a-4954-c4d9-56f786f680c6"
      },
      "outputs": [
        {
          "name": "stdout",
          "output_type": "stream",
          "text": [
            "brazil_states_info.csv\r\n"
          ]
        }
      ],
      "source": [
        "!ls ../data"
      ]
    },
    {
      "cell_type": "code",
      "execution_count": null,
      "metadata": {
        "ExecuteTime": {
          "end_time": "2021-05-05T23:33:06.430736Z",
          "start_time": "2021-05-05T23:33:06.427839Z"
        },
        "id": "mXeyKKogh8g2"
      },
      "outputs": [],
      "source": [
        "path = '../data/brazil_states_info.csv'"
      ]
    },
    {
      "cell_type": "markdown",
      "metadata": {
        "id": "ldadp8kxh8g2"
      },
      "source": [
        "### From Computer - Colab"
      ]
    },
    {
      "cell_type": "code",
      "execution_count": null,
      "metadata": {
        "colab": {
          "base_uri": "https://localhost:8080/",
          "height": 73,
          "resources": {
            "http://localhost:8080/nbextensions/google.colab/files.js": {
              "data": "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",
              "headers": [
                [
                  "content-type",
                  "application/javascript"
                ]
              ],
              "ok": true,
              "status": 200,
              "status_text": ""
            }
          }
        },
        "id": "wRGvG_pFkZwv",
        "outputId": "5aa1dc9d-23a3-469f-88c1-2ddea6c8f0df"
      },
      "outputs": [
        {
          "data": {
            "text/html": [
              "\n",
              "     <input type=\"file\" id=\"files-103294af-4fde-429c-a6b0-86dacbb5f3d1\" name=\"files[]\" multiple disabled\n",
              "        style=\"border:none\" />\n",
              "     <output id=\"result-103294af-4fde-429c-a6b0-86dacbb5f3d1\">\n",
              "      Upload widget is only available when the cell has been executed in the\n",
              "      current browser session. Please rerun this cell to enable.\n",
              "      </output>\n",
              "      <script src=\"/nbextensions/google.colab/files.js\"></script> "
            ],
            "text/plain": [
              "<IPython.core.display.HTML object>"
            ]
          },
          "metadata": {
            "tags": []
          },
          "output_type": "display_data"
        },
        {
          "name": "stdout",
          "output_type": "stream",
          "text": [
            "Saving brazil_states_info.csv to brazil_states_info.csv\n"
          ]
        }
      ],
      "source": [
        "from google.colab import files\n",
        "uploaded = files.upload()"
      ]
    },
    {
      "cell_type": "code",
      "execution_count": null,
      "metadata": {
        "colab": {
          "base_uri": "https://localhost:8080/"
        },
        "id": "iWG88aNeAhYl",
        "outputId": "37a8b5a9-e449-42b3-d73f-fdcfec1c6efa"
      },
      "outputs": [
        {
          "data": {
            "text/plain": [
              "{'brazil_states_info.csv': b',state,UF,Capital,Area(km2),Population(2019),\"Density (perkm2, 2019)\",\"GDP (R$millions, 2016)\",HDI(2017)\\n0,Acre,AC,Rio Branco,164124,881935,5.37,13751,0.7190000000000001\\n1,Alagoas,AL,Macei\\xc3\\xb3,27843,3337357,119.86,49456,0.6829999999999999\\n2,Amap\\xc3\\xa1,AP,Macap\\xc3\\xa1,142471,845731,5.94,14339,0.74\\n3,Amazonas,AM,Manaus,1559168,4144597,2.66,89017,0.733\\n4,Bahia,BA,Salvador,564723,14873064,26.34,258649,0.7140000000000001\\n5,Cear\\xc3\\xa1,CE,Fortaleza,148895,9132078,61.33,138379,0.735\\n6,Distrito Federal,DF,Bras\\xc3\\xadlia,5761,3015268,523.41,235497,0.85\\n7,Esp\\xc3\\xadrito Santo,ES,Vit\\xc3\\xb3ria,46074,4018650,87.22,109227,0.772\\n8,Goi\\xc3\\xa1s,GO,Goi\\xc3\\xa2nia,340126,7018354,20.63,181692,0.769\\n9,Maranh\\xc3\\xa3o,MA,S\\xc3\\xa3o Lu\\xc3\\xads,329642,7075181,21.46,85286,0.687\\n10,Mato Grosso,MT,Cuiab\\xc3\\xa1,903207,3484466,3.86,123834,0.774\\n11,Mato Grosso do Sul,MS,Campo Grande,357146,2778986,7.78,91866,0.7659999999999999\\n12,Minas Gerais,MG,Belo Horizonte,586521,21168791,36.09,544634,0.787\\n13,Par\\xc3\\xa1,PA,Bel\\xc3\\xa9m,1245759,8602865,6.91,138068,0.698\\n14,Para\\xc3\\xadba,PB,Jo\\xc3\\xa3o Pessoa,56467,4018127,71.16,59089,0.722\\n15,Paran\\xc3\\xa1,PR,Curitiba,199305,11433957,57.37,401662,0.792\\n16,Pernambuco,PE,Recife,98068,9557071,97.45,167290,0.727\\n17,Piau\\xc3\\xad,PI,Teresina,251617,3273227,13.01,41406,0.6970000000000001\\n18,Rio de Janeiro,RJ,Rio de Janeiro,43750,17264943,394.62,640186,0.7959999999999999\\n19,Rio Grande do Norte,RN,Natal,52810,3506853,66.41,59661,0.731\\n20,Rio Grande do Sul,RS,Porto Alegre,281707,11377239,40.39,408645,0.787\\n21,Rond\\xc3\\xb4nia,RO,Porto Velho,237765,1777225,7.47,39451,0.725\\n22,Roraima,RR,Boa Vista,224274,605761,2.7,11011,0.752\\n23,Santa Catarina,SC,Florian\\xc3\\xb3polis,95731,7164788,74.84,256661,0.8079999999999999\\n24,S\\xc3\\xa3o Paulo,SP,S\\xc3\\xa3o Paulo,248219,45919049,184.99,2038005,0.826\\n25,Sergipe,SE,Aracaju,21927,2298696,104.83,38867,0.7020000000000001\\n26,Tocantins,TO,Palmas,277720,1572866,5.66,31576,0.743\\n'}"
            ]
          },
          "execution_count": 31,
          "metadata": {
            "tags": []
          },
          "output_type": "execute_result"
        }
      ],
      "source": [
        "uploaded"
      ]
    },
    {
      "cell_type": "code",
      "execution_count": null,
      "metadata": {
        "id": "JrWiqDsEAheb"
      },
      "outputs": [],
      "source": [
        "path = \"/content/brazil_states_info.csv\""
      ]
    },
    {
      "cell_type": "markdown",
      "metadata": {
        "id": "HylVS_TOh8g2"
      },
      "source": [
        "### Creating Dataframe and Inspecting data"
      ]
    },
    {
      "cell_type": "code",
      "execution_count": null,
      "metadata": {
        "ExecuteTime": {
          "end_time": "2021-05-05T23:33:11.177421Z",
          "start_time": "2021-05-05T23:33:11.160972Z"
        },
        "colab": {
          "base_uri": "https://localhost:8080/"
        },
        "id": "uUaJFBx1Ahir",
        "outputId": "299e258c-56ff-4d08-fe99-e9f68710290e"
      },
      "outputs": [
        {
          "data": {
            "text/plain": [
              "(27, 9)"
            ]
          },
          "execution_count": 86,
          "metadata": {},
          "output_type": "execute_result"
        }
      ],
      "source": [
        "br = pd.read_csv(path)\n",
        "br.shape"
      ]
    },
    {
      "cell_type": "code",
      "execution_count": null,
      "metadata": {
        "ExecuteTime": {
          "end_time": "2021-05-05T23:33:12.327895Z",
          "start_time": "2021-05-05T23:33:12.315757Z"
        },
        "colab": {
          "base_uri": "https://localhost:8080/",
          "height": 237
        },
        "id": "sSD3UrXDDk26",
        "outputId": "7d5fd224-5bfa-44a7-b66d-30cf19580418"
      },
      "outputs": [
        {
          "data": {
            "text/html": [
              "<div>\n",
              "<style scoped>\n",
              "    .dataframe tbody tr th:only-of-type {\n",
              "        vertical-align: middle;\n",
              "    }\n",
              "\n",
              "    .dataframe tbody tr th {\n",
              "        vertical-align: top;\n",
              "    }\n",
              "\n",
              "    .dataframe thead th {\n",
              "        text-align: right;\n",
              "    }\n",
              "</style>\n",
              "<table border=\"1\" class=\"dataframe\">\n",
              "  <thead>\n",
              "    <tr style=\"text-align: right;\">\n",
              "      <th></th>\n",
              "      <th>Unnamed: 0</th>\n",
              "      <th>state</th>\n",
              "      <th>UF</th>\n",
              "      <th>Capital</th>\n",
              "      <th>Area(km2)</th>\n",
              "      <th>Population(2019)</th>\n",
              "      <th>Density (perkm2, 2019)</th>\n",
              "      <th>GDP (R$millions, 2016)</th>\n",
              "      <th>HDI(2017)</th>\n",
              "    </tr>\n",
              "  </thead>\n",
              "  <tbody>\n",
              "    <tr>\n",
              "      <th>0</th>\n",
              "      <td>0</td>\n",
              "      <td>Acre</td>\n",
              "      <td>AC</td>\n",
              "      <td>Rio Branco</td>\n",
              "      <td>164124</td>\n",
              "      <td>881935</td>\n",
              "      <td>5.37</td>\n",
              "      <td>13751</td>\n",
              "      <td>0.719</td>\n",
              "    </tr>\n",
              "    <tr>\n",
              "      <th>1</th>\n",
              "      <td>1</td>\n",
              "      <td>Alagoas</td>\n",
              "      <td>AL</td>\n",
              "      <td>Maceió</td>\n",
              "      <td>27843</td>\n",
              "      <td>3337357</td>\n",
              "      <td>119.86</td>\n",
              "      <td>49456</td>\n",
              "      <td>0.683</td>\n",
              "    </tr>\n",
              "    <tr>\n",
              "      <th>2</th>\n",
              "      <td>2</td>\n",
              "      <td>Amapá</td>\n",
              "      <td>AP</td>\n",
              "      <td>Macapá</td>\n",
              "      <td>142471</td>\n",
              "      <td>845731</td>\n",
              "      <td>5.94</td>\n",
              "      <td>14339</td>\n",
              "      <td>0.740</td>\n",
              "    </tr>\n",
              "    <tr>\n",
              "      <th>3</th>\n",
              "      <td>3</td>\n",
              "      <td>Amazonas</td>\n",
              "      <td>AM</td>\n",
              "      <td>Manaus</td>\n",
              "      <td>1559168</td>\n",
              "      <td>4144597</td>\n",
              "      <td>2.66</td>\n",
              "      <td>89017</td>\n",
              "      <td>0.733</td>\n",
              "    </tr>\n",
              "    <tr>\n",
              "      <th>4</th>\n",
              "      <td>4</td>\n",
              "      <td>Bahia</td>\n",
              "      <td>BA</td>\n",
              "      <td>Salvador</td>\n",
              "      <td>564723</td>\n",
              "      <td>14873064</td>\n",
              "      <td>26.34</td>\n",
              "      <td>258649</td>\n",
              "      <td>0.714</td>\n",
              "    </tr>\n",
              "  </tbody>\n",
              "</table>\n",
              "</div>"
            ],
            "text/plain": [
              "   Unnamed: 0     state  UF     Capital  Area(km2)  Population(2019)  \\\n",
              "0           0      Acre  AC  Rio Branco     164124            881935   \n",
              "1           1   Alagoas  AL      Maceió      27843           3337357   \n",
              "2           2     Amapá  AP      Macapá     142471            845731   \n",
              "3           3  Amazonas  AM      Manaus    1559168           4144597   \n",
              "4           4     Bahia  BA    Salvador     564723          14873064   \n",
              "\n",
              "   Density (perkm2, 2019)  GDP (R$millions, 2016)  HDI(2017)  \n",
              "0                    5.37                   13751      0.719  \n",
              "1                  119.86                   49456      0.683  \n",
              "2                    5.94                   14339      0.740  \n",
              "3                    2.66                   89017      0.733  \n",
              "4                   26.34                  258649      0.714  "
            ]
          },
          "execution_count": 87,
          "metadata": {},
          "output_type": "execute_result"
        }
      ],
      "source": [
        "br.head()"
      ]
    },
    {
      "cell_type": "code",
      "execution_count": null,
      "metadata": {
        "ExecuteTime": {
          "end_time": "2021-05-05T23:33:13.756967Z",
          "start_time": "2021-05-05T23:33:13.746809Z"
        },
        "colab": {
          "base_uri": "https://localhost:8080/",
          "height": 237
        },
        "id": "tvhErianDk5z",
        "outputId": "3d0f45d1-3859-4c5e-d9cd-0e68aad75d8f"
      },
      "outputs": [
        {
          "data": {
            "text/html": [
              "<div>\n",
              "<style scoped>\n",
              "    .dataframe tbody tr th:only-of-type {\n",
              "        vertical-align: middle;\n",
              "    }\n",
              "\n",
              "    .dataframe tbody tr th {\n",
              "        vertical-align: top;\n",
              "    }\n",
              "\n",
              "    .dataframe thead th {\n",
              "        text-align: right;\n",
              "    }\n",
              "</style>\n",
              "<table border=\"1\" class=\"dataframe\">\n",
              "  <thead>\n",
              "    <tr style=\"text-align: right;\">\n",
              "      <th></th>\n",
              "      <th>state</th>\n",
              "      <th>UF</th>\n",
              "      <th>Capital</th>\n",
              "      <th>Area(km2)</th>\n",
              "      <th>Population(2019)</th>\n",
              "      <th>Density (perkm2, 2019)</th>\n",
              "      <th>GDP (R$millions, 2016)</th>\n",
              "      <th>HDI(2017)</th>\n",
              "    </tr>\n",
              "  </thead>\n",
              "  <tbody>\n",
              "    <tr>\n",
              "      <th>0</th>\n",
              "      <td>Acre</td>\n",
              "      <td>AC</td>\n",
              "      <td>Rio Branco</td>\n",
              "      <td>164124</td>\n",
              "      <td>881935</td>\n",
              "      <td>5.37</td>\n",
              "      <td>13751</td>\n",
              "      <td>0.719</td>\n",
              "    </tr>\n",
              "    <tr>\n",
              "      <th>1</th>\n",
              "      <td>Alagoas</td>\n",
              "      <td>AL</td>\n",
              "      <td>Maceió</td>\n",
              "      <td>27843</td>\n",
              "      <td>3337357</td>\n",
              "      <td>119.86</td>\n",
              "      <td>49456</td>\n",
              "      <td>0.683</td>\n",
              "    </tr>\n",
              "    <tr>\n",
              "      <th>2</th>\n",
              "      <td>Amapá</td>\n",
              "      <td>AP</td>\n",
              "      <td>Macapá</td>\n",
              "      <td>142471</td>\n",
              "      <td>845731</td>\n",
              "      <td>5.94</td>\n",
              "      <td>14339</td>\n",
              "      <td>0.740</td>\n",
              "    </tr>\n",
              "    <tr>\n",
              "      <th>3</th>\n",
              "      <td>Amazonas</td>\n",
              "      <td>AM</td>\n",
              "      <td>Manaus</td>\n",
              "      <td>1559168</td>\n",
              "      <td>4144597</td>\n",
              "      <td>2.66</td>\n",
              "      <td>89017</td>\n",
              "      <td>0.733</td>\n",
              "    </tr>\n",
              "    <tr>\n",
              "      <th>4</th>\n",
              "      <td>Bahia</td>\n",
              "      <td>BA</td>\n",
              "      <td>Salvador</td>\n",
              "      <td>564723</td>\n",
              "      <td>14873064</td>\n",
              "      <td>26.34</td>\n",
              "      <td>258649</td>\n",
              "      <td>0.714</td>\n",
              "    </tr>\n",
              "  </tbody>\n",
              "</table>\n",
              "</div>"
            ],
            "text/plain": [
              "      state  UF     Capital  Area(km2)  Population(2019)  \\\n",
              "0      Acre  AC  Rio Branco     164124            881935   \n",
              "1   Alagoas  AL      Maceió      27843           3337357   \n",
              "2     Amapá  AP      Macapá     142471            845731   \n",
              "3  Amazonas  AM      Manaus    1559168           4144597   \n",
              "4     Bahia  BA    Salvador     564723          14873064   \n",
              "\n",
              "   Density (perkm2, 2019)  GDP (R$millions, 2016)  HDI(2017)  \n",
              "0                    5.37                   13751      0.719  \n",
              "1                  119.86                   49456      0.683  \n",
              "2                    5.94                   14339      0.740  \n",
              "3                    2.66                   89017      0.733  \n",
              "4                   26.34                  258649      0.714  "
            ]
          },
          "execution_count": 88,
          "metadata": {},
          "output_type": "execute_result"
        }
      ],
      "source": [
        "del br['Unnamed: 0']\n",
        "br.head()"
      ]
    },
    {
      "cell_type": "code",
      "execution_count": null,
      "metadata": {
        "ExecuteTime": {
          "end_time": "2021-05-05T23:33:16.397139Z",
          "start_time": "2021-05-05T23:33:16.390403Z"
        },
        "colab": {
          "base_uri": "https://localhost:8080/"
        },
        "id": "Bv_r3lCOEH8A",
        "outputId": "2ffc5c86-2a83-481f-b19b-4f78fb75fa95"
      },
      "outputs": [
        {
          "data": {
            "text/plain": [
              "6    Distrito Federal\n",
              "Name: state, dtype: object"
            ]
          },
          "execution_count": 89,
          "metadata": {},
          "output_type": "execute_result"
        }
      ],
      "source": [
        "br[br['Area(km2)'] == br['Area(km2)'].min()].state"
      ]
    },
    {
      "cell_type": "code",
      "execution_count": null,
      "metadata": {
        "ExecuteTime": {
          "end_time": "2021-05-05T23:33:17.171683Z",
          "start_time": "2021-05-05T23:33:17.160108Z"
        },
        "colab": {
          "base_uri": "https://localhost:8080/",
          "height": 79
        },
        "id": "Zgv_G38vFY6a",
        "outputId": "a3ded464-1af8-4c74-bfc7-3c9731b3fc12"
      },
      "outputs": [
        {
          "data": {
            "text/html": [
              "<div>\n",
              "<style scoped>\n",
              "    .dataframe tbody tr th:only-of-type {\n",
              "        vertical-align: middle;\n",
              "    }\n",
              "\n",
              "    .dataframe tbody tr th {\n",
              "        vertical-align: top;\n",
              "    }\n",
              "\n",
              "    .dataframe thead th {\n",
              "        text-align: right;\n",
              "    }\n",
              "</style>\n",
              "<table border=\"1\" class=\"dataframe\">\n",
              "  <thead>\n",
              "    <tr style=\"text-align: right;\">\n",
              "      <th></th>\n",
              "      <th>state</th>\n",
              "      <th>UF</th>\n",
              "      <th>Capital</th>\n",
              "      <th>Area(km2)</th>\n",
              "      <th>Population(2019)</th>\n",
              "      <th>Density (perkm2, 2019)</th>\n",
              "      <th>GDP (R$millions, 2016)</th>\n",
              "      <th>HDI(2017)</th>\n",
              "    </tr>\n",
              "  </thead>\n",
              "  <tbody>\n",
              "    <tr>\n",
              "      <th>3</th>\n",
              "      <td>Amazonas</td>\n",
              "      <td>AM</td>\n",
              "      <td>Manaus</td>\n",
              "      <td>1559168</td>\n",
              "      <td>4144597</td>\n",
              "      <td>2.66</td>\n",
              "      <td>89017</td>\n",
              "      <td>0.733</td>\n",
              "    </tr>\n",
              "  </tbody>\n",
              "</table>\n",
              "</div>"
            ],
            "text/plain": [
              "      state  UF Capital  Area(km2)  Population(2019)  Density (perkm2, 2019)  \\\n",
              "3  Amazonas  AM  Manaus    1559168           4144597                    2.66   \n",
              "\n",
              "   GDP (R$millions, 2016)  HDI(2017)  \n",
              "3                   89017      0.733  "
            ]
          },
          "execution_count": 90,
          "metadata": {},
          "output_type": "execute_result"
        }
      ],
      "source": [
        "br[br['Area(km2)'] == br['Area(km2)'].max()]"
      ]
    },
    {
      "cell_type": "code",
      "execution_count": null,
      "metadata": {
        "ExecuteTime": {
          "end_time": "2021-05-05T23:33:18.729623Z",
          "start_time": "2021-05-05T23:33:18.407479Z"
        },
        "colab": {
          "base_uri": "https://localhost:8080/",
          "height": 297
        },
        "id": "wCYjbTjpEIGj",
        "outputId": "ea177bc6-aa6b-40de-dd33-4110f075d100"
      },
      "outputs": [
        {
          "data": {
            "image/png": "[encoded data removed]",
            "text/plain": [
              "<Figure size 432x288 with 1 Axes>"
            ]
          },
          "metadata": {
            "needs_background": "light"
          },
          "output_type": "display_data"
        }
      ],
      "source": [
        "br.plot.bar(x='UF', y='Population(2019)');"
      ]
    },
    {
      "cell_type": "code",
      "execution_count": null,
      "metadata": {
        "ExecuteTime": {
          "end_time": "2021-05-05T23:33:20.027710Z",
          "start_time": "2021-05-05T23:33:19.766555Z"
        },
        "colab": {
          "base_uri": "https://localhost:8080/",
          "height": 279
        },
        "id": "s4Dka17mHyOi",
        "outputId": "17ff8917-e1fa-44b2-83c8-c7c562e3ca6c"
      },
      "outputs": [
        {
          "data": {
            "image/png": "[encoded data removed]",
            "text/plain": [
              "<Figure size 432x288 with 1 Axes>"
            ]
          },
          "metadata": {
            "needs_background": "light"
          },
          "output_type": "display_data"
        }
      ],
      "source": [
        "br[['UF', 'GDP (R$millions, 2016)', 'Population(2019)']].plot.bar(stacked=True);"
      ]
    },
    {
      "cell_type": "markdown",
      "metadata": {
        "id": "j5VxZ0pGJvdu"
      },
      "source": [
        "https://pandas.pydata.org/docs/reference/api/pandas.DataFrame.plot.bar.html"
      ]
    },
    {
      "cell_type": "markdown",
      "metadata": {
        "id": "xfi4r1OoAgdZ"
      },
      "source": [
        "## Other datasets"
      ]
    },
    {
      "cell_type": "code",
      "execution_count": null,
      "metadata": {
        "ExecuteTime": {
          "end_time": "2021-05-05T16:26:37.122640Z",
          "start_time": "2021-05-05T16:26:19.772658Z"
        },
        "colab": {
          "base_uri": "https://localhost:8080/"
        },
        "id": "QiolfiMhpcN3",
        "outputId": "741aa7b8-e2e0-4f3b-c2ee-2a5c99f33d4c",
        "scrolled": true
      },
      "outputs": [
        {
          "name": "stdout",
          "output_type": "stream",
          "text": [
            "Collecting world_bank_data\n",
            "  Downloading world_bank_data-0.1.3.tar.gz (12 kB)\n",
            "Requirement already satisfied, skipping upgrade: pandas in /Users/mjrovai/opt/anaconda3/lib/python3.7/site-packages (from world_bank_data) (1.0.1)\n",
            "Requirement already satisfied, skipping upgrade: requests in /Users/mjrovai/opt/anaconda3/lib/python3.7/site-packages (from world_bank_data) (2.22.0)\n",
            "Requirement already satisfied, skipping upgrade: cachetools in /Users/mjrovai/opt/anaconda3/lib/python3.7/site-packages (from world_bank_data) (4.1.1)\n",
            "Requirement already satisfied, skipping upgrade: numpy>=1.13.3 in /Users/mjrovai/opt/anaconda3/lib/python3.7/site-packages (from pandas->world_bank_data) (1.18.1)\n",
            "Requirement already satisfied, skipping upgrade: python-dateutil>=2.6.1 in /Users/mjrovai/opt/anaconda3/lib/python3.7/site-packages (from pandas->world_bank_data) (2.8.1)\n",
            "Requirement already satisfied, skipping upgrade: pytz>=2017.2 in /Users/mjrovai/opt/anaconda3/lib/python3.7/site-packages (from pandas->world_bank_data) (2019.3)\n",
            "Requirement already satisfied, skipping upgrade: urllib3!=1.25.0,!=1.25.1,<1.26,>=1.21.1 in /Users/mjrovai/opt/anaconda3/lib/python3.7/site-packages (from requests->world_bank_data) (1.25.8)\n",
            "Requirement already satisfied, skipping upgrade: idna<2.9,>=2.5 in /Users/mjrovai/opt/anaconda3/lib/python3.7/site-packages (from requests->world_bank_data) (2.8)\n",
            "Requirement already satisfied, skipping upgrade: certifi>=2017.4.17 in /Users/mjrovai/opt/anaconda3/lib/python3.7/site-packages (from requests->world_bank_data) (2019.11.28)\n",
            "Requirement already satisfied, skipping upgrade: chardet<3.1.0,>=3.0.2 in /Users/mjrovai/opt/anaconda3/lib/python3.7/site-packages (from requests->world_bank_data) (3.0.4)\n",
            "Requirement already satisfied, skipping upgrade: six>=1.5 in /Users/mjrovai/opt/anaconda3/lib/python3.7/site-packages (from python-dateutil>=2.6.1->pandas->world_bank_data) (1.14.0)\n",
            "Building wheels for collected packages: world-bank-data\n",
            "  Building wheel for world-bank-data (setup.py) ... \u001b[?25ldone\n",
            "\u001b[?25h  Created wheel for world-bank-data: filename=world_bank_data-0.1.3-py3-none-any.whl size=11095 sha256=08a11a28023428f7d49b605efcad44304991a607b811229897750bacc611462b\n",
            "  Stored in directory: /Users/mjrovai/Library/Caches/pip/wheels/95/74/5e/c32dde16dc1ef8d8e9cf134ac93ae723ffec4f60be9c4873f5\n",
            "Successfully built world-bank-data\n",
            "Installing collected packages: world-bank-data\n",
            "Successfully installed world-bank-data-0.1.3\n"
          ]
        }
      ],
      "source": [
        "!pip install world_bank_data --upgrade"
      ]
    },
    {
      "cell_type": "code",
      "execution_count": null,
      "metadata": {
        "ExecuteTime": {
          "end_time": "2021-05-05T16:26:42.785604Z",
          "start_time": "2021-05-05T16:26:42.701608Z"
        },
        "id": "ZM84VnqYpjMj"
      },
      "outputs": [],
      "source": [
        "import world_bank_data as wb"
      ]
    },
    {
      "cell_type": "code",
      "execution_count": null,
      "metadata": {
        "colab": {
          "base_uri": "https://localhost:8080/"
        },
        "id": "ODEMWgCUpwPH",
        "outputId": "502a0a2f-7eee-446e-f35c-67ba7fe66d9c"
      },
      "outputs": [
        {
          "data": {
            "text/plain": [
              "(297, 9)"
            ]
          },
          "execution_count": 169,
          "metadata": {
            "tags": []
          },
          "output_type": "execute_result"
        }
      ],
      "source": [
        "df = wb.get_countries()\n",
        "df.shape"
      ]
    },
    {
      "cell_type": "code",
      "execution_count": null,
      "metadata": {
        "colab": {
          "base_uri": "https://localhost:8080/",
          "height": 337
        },
        "id": "WLFiXED_qCS_",
        "outputId": "e2ed6b40-ed3b-4cd3-81f5-69449e5e4ce0"
      },
      "outputs": [
        {
          "data": {
            "text/html": [
              "<div>\n",
              "<style scoped>\n",
              "    .dataframe tbody tr th:only-of-type {\n",
              "        vertical-align: middle;\n",
              "    }\n",
              "\n",
              "    .dataframe tbody tr th {\n",
              "        vertical-align: top;\n",
              "    }\n",
              "\n",
              "    .dataframe thead th {\n",
              "        text-align: right;\n",
              "    }\n",
              "</style>\n",
              "<table border=\"1\" class=\"dataframe\">\n",
              "  <thead>\n",
              "    <tr style=\"text-align: right;\">\n",
              "      <th></th>\n",
              "      <th>iso2Code</th>\n",
              "      <th>name</th>\n",
              "      <th>region</th>\n",
              "      <th>adminregion</th>\n",
              "      <th>incomeLevel</th>\n",
              "      <th>lendingType</th>\n",
              "      <th>capitalCity</th>\n",
              "      <th>longitude</th>\n",
              "      <th>latitude</th>\n",
              "    </tr>\n",
              "    <tr>\n",
              "      <th>id</th>\n",
              "      <th></th>\n",
              "      <th></th>\n",
              "      <th></th>\n",
              "      <th></th>\n",
              "      <th></th>\n",
              "      <th></th>\n",
              "      <th></th>\n",
              "      <th></th>\n",
              "      <th></th>\n",
              "    </tr>\n",
              "  </thead>\n",
              "  <tbody>\n",
              "    <tr>\n",
              "      <th>ABW</th>\n",
              "      <td>AW</td>\n",
              "      <td>Aruba</td>\n",
              "      <td>Latin America &amp; Caribbean</td>\n",
              "      <td></td>\n",
              "      <td>High income</td>\n",
              "      <td>Not classified</td>\n",
              "      <td>Oranjestad</td>\n",
              "      <td>-70.0167</td>\n",
              "      <td>12.51670</td>\n",
              "    </tr>\n",
              "    <tr>\n",
              "      <th>AFG</th>\n",
              "      <td>AF</td>\n",
              "      <td>Afghanistan</td>\n",
              "      <td>South Asia</td>\n",
              "      <td>South Asia</td>\n",
              "      <td>Low income</td>\n",
              "      <td>IDA</td>\n",
              "      <td>Kabul</td>\n",
              "      <td>69.1761</td>\n",
              "      <td>34.52280</td>\n",
              "    </tr>\n",
              "    <tr>\n",
              "      <th>AFR</th>\n",
              "      <td>A9</td>\n",
              "      <td>Africa</td>\n",
              "      <td>Aggregates</td>\n",
              "      <td></td>\n",
              "      <td>Aggregates</td>\n",
              "      <td>Aggregates</td>\n",
              "      <td></td>\n",
              "      <td>NaN</td>\n",
              "      <td>NaN</td>\n",
              "    </tr>\n",
              "    <tr>\n",
              "      <th>AGO</th>\n",
              "      <td>AO</td>\n",
              "      <td>Angola</td>\n",
              "      <td>Sub-Saharan Africa</td>\n",
              "      <td>Sub-Saharan Africa (excluding high income)</td>\n",
              "      <td>Lower middle income</td>\n",
              "      <td>IBRD</td>\n",
              "      <td>Luanda</td>\n",
              "      <td>13.2420</td>\n",
              "      <td>-8.81155</td>\n",
              "    </tr>\n",
              "    <tr>\n",
              "      <th>ALB</th>\n",
              "      <td>AL</td>\n",
              "      <td>Albania</td>\n",
              "      <td>Europe &amp; Central Asia</td>\n",
              "      <td>Europe &amp; Central Asia (excluding high income)</td>\n",
              "      <td>Upper middle income</td>\n",
              "      <td>IBRD</td>\n",
              "      <td>Tirane</td>\n",
              "      <td>19.8172</td>\n",
              "      <td>41.33170</td>\n",
              "    </tr>\n",
              "  </tbody>\n",
              "</table>\n",
              "</div>"
            ],
            "text/plain": [
              "    iso2Code         name  ... longitude  latitude\n",
              "id                         ...                    \n",
              "ABW       AW        Aruba  ...  -70.0167  12.51670\n",
              "AFG       AF  Afghanistan  ...   69.1761  34.52280\n",
              "AFR       A9       Africa  ...       NaN       NaN\n",
              "AGO       AO       Angola  ...   13.2420  -8.81155\n",
              "ALB       AL      Albania  ...   19.8172  41.33170\n",
              "\n",
              "[5 rows x 9 columns]"
            ]
          },
          "execution_count": 170,
          "metadata": {
            "tags": []
          },
          "output_type": "execute_result"
        }
      ],
      "source": [
        "df.head()"
      ]
    },
    {
      "cell_type": "code",
      "execution_count": null,
      "metadata": {
        "colab": {
          "base_uri": "https://localhost:8080/",
          "height": 265
        },
        "id": "TsDo1WKQqHKT",
        "outputId": "d4d86458-0604-49a2-f3e1-542fc2b89967"
      },
      "outputs": [
        {
          "data": {
            "image/png": "[encoded data removed]",
            "text/plain": [
              "<Figure size 432x288 with 1 Axes>"
            ]
          },
          "metadata": {
            "needs_background": "light",
            "tags": []
          },
          "output_type": "display_data"
        }
      ],
      "source": [
        "plt.plot(df.longitude, df.latitude, 'ro');"
      ]
    }
  ],
  "metadata": {
    "colab": {
      "name": "Test Python.ipynb",
      "provenance": []
    },
    "hide_input": false,
    "kernelspec": {
      "display_name": "Python 3",
      "name": "python3"
    },
    "language_info": {
      "name": "python"
    },
    "nbTranslate": {
      "displayLangs": [
        "*"
      ],
      "hotkey": "alt-t",
      "langInMainMenu": true,
      "sourceLang": "en",
      "targetLang": "fr",
      "useGoogleTranslate": true
    },
    "toc": {
      "base_numbering": 1,
      "nav_menu": {},
      "number_sections": true,
      "sideBar": true,
      "skip_h1_title": true,
      "title_cell": "Table of Contents",
      "title_sidebar": "Contents",
      "toc_cell": false,
      "toc_position": {},
      "toc_section_display": true,
      "toc_window_display": true
    },
    "varInspector": {
      "cols": {
        "lenName": 16,
        "lenType": 16,
        "lenVar": 40
      },
      "kernels_config": {
        "python": {
          "delete_cmd_postfix": "",
          "delete_cmd_prefix": "del ",
          "library": "var_list.py",
          "varRefreshCmd": "print(var_dic_list())"
        },
        "r": {
          "delete_cmd_postfix": ") ",
          "delete_cmd_prefix": "rm(",
          "library": "var_list.r",
          "varRefreshCmd": "cat(var_dic_list()) "
        }
      },
      "types_to_exclude": [
        "module",
        "function",
        "builtin_function_or_method",
        "instance",
        "_Feature"
      ],
      "window_display": false
    }
  },
  "nbformat": 4,
  "nbformat_minor": 0
}